{
  "nbformat": 4,
  "nbformat_minor": 4,
  "metadata": {
    "kernelspec": {
      "display_name": "Python",
      "language": "python",
      "name": "python"
    },
    "language_info": {
      "name": "python",
      "file_extension": ".py"
    }
  },
  "cells": [
    {
      "cell_type": "code",
      "execution_count": null,
      "metadata": {},
      "outputs": [],
      "source": [
        "import tkinter as tk"
      ]
    },
    {
      "cell_type": "code",
      "execution_count": null,
      "metadata": {},
      "outputs": [],
      "source": [
        "class Calculator:",
        "    def __init__(self, master):",
        "        self.master = master",
        "        master.title(\"Calculator\")"
      ]
    },
    {
      "cell_type": "code",
      "execution_count": null,
      "metadata": {},
      "outputs": [],
      "source": [
        "self.result_var = tk.StringVar()"
      ]
    },
    {
      "cell_type": "code",
      "execution_count": null,
      "metadata": {},
      "outputs": [],
      "source": [
        "self.entry = tk.Entry(master, textvariable=self.result_var, width=16, font=('Arial', 24), bd=8, insertwidth=2, justify='right')",
        "        self.entry.grid(row=0, column=0, columnspan=4)"
      ]
    },
    {
      "cell_type": "code",
      "execution_count": null,
      "metadata": {},
      "outputs": [],
      "source": [
        "self.create_buttons()"
      ]
    },
    {
      "cell_type": "code",
      "execution_count": null,
      "metadata": {},
      "outputs": [],
      "source": [
        "def create_buttons(self):",
        "        buttons = [",
        "            '7', '8', '9', '/', ",
        "            '4', '5', '6', '*',",
        "            '1', '2', '3', '-',",
        "            '0', 'C', '=', '+'",
        "        ]"
      ]
    },
    {
      "cell_type": "code",
      "execution_count": null,
      "metadata": {},
      "outputs": [],
      "source": [
        "row_val = 1",
        "        col_val = 0",
        "        for button_text in buttons:",
        "            button = tk.Button(self.master, text=button_text, padx=20, pady=20, font=('Arial', 18),",
        "                               command=lambda text=button_text: self.on_button_click(text))",
        "            button.grid(row=row_val, column=col_val, sticky=\"nsew\")"
      ]
    },
    {
      "cell_type": "code",
      "execution_count": null,
      "metadata": {},
      "outputs": [],
      "source": [
        "col_val += 1",
        "            if col_val > 3:",
        "                col_val = 0",
        "                row_val += 1"
      ]
    },
    {
      "cell_type": "code",
      "execution_count": null,
      "metadata": {},
      "outputs": [],
      "source": [
        "def on_button_click(self, char):",
        "        if char == 'C':",
        "            self.result_var.set('')",
        "        elif char == '=':",
        "            try:",
        "                expression = self.result_var.get()",
        "                result = eval(expression)",
        "                self.result_var.set(result)",
        "            except Exception as e:",
        "                self.result_var.set('Error')",
        "        else:",
        "            current_text = self.result_var.get()",
        "            new_text = current_text + str(char)",
        "            self.result_var.set(new_text)"
      ]
    },
    {
      "cell_type": "code",
      "execution_count": null,
      "metadata": {},
      "outputs": [],
      "source": [
        "if __name__ == \"__main__\":",
        "    root = tk.Tk()",
        "    calculator = Calculator(root)",
        "    root.mainloop()"
      ]
    }
  ]
}