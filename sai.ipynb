{
  "nbformat": 4,
  "nbformat_minor": 4,
  "metadata": {
    "kernelspec": {
      "display_name": "Python",
      "language": "python",
      "name": "python"
    },
    "language_info": {
      "name": "python",
      "file_extension": ".py"
    }
  },
  "cells": [
    {
      "cell_type": "code",
      "execution_count": null,
      "metadata": {},
      "outputs": [],
      "source": [
        "# Vote Eligibility Checker"
      ]
    },
    {
      "cell_type": "code",
      "execution_count": null,
      "metadata": {},
      "outputs": [],
      "source": [
        "# Constants for eligibility criteria",
        "MINIMUM_VOTING_AGE = 18",
        "CITIZENSHIP_REQUIRED = True"
      ]
    },
    {
      "cell_type": "code",
      "execution_count": null,
      "metadata": {},
      "outputs": [],
      "source": [
        "# Function to check vote eligibility",
        "def is_eligible_to_vote(age, is_citizen):",
        "    \"\"\"",
        "    Check if a person is eligible to vote.",
        "    :param age: int - Age of the person",
        "    :param is_citizen: bool - Citizenship status of the person",
        "    :return: bool - True if eligible, False otherwise",
        "    \"\"\"",
        "    return age >= MINIMUM_VOTING_AGE and is_citizen == CITIZENSHIP_REQUIRED"
      ]
    },
    {
      "cell_type": "code",
      "execution_count": null,
      "metadata": {},
      "outputs": [],
      "source": [
        "# Test cases",
        "print(\"Test Case 1: Age 18, Citizen -\", is_eligible_to_vote(18, True))  # Expected: True",
        "print(\"Test Case 2: Age 17, Citizen -\", is_eligible_to_vote(17, True))  # Expected: False",
        "print(\"Test Case 3: Age 18, Not a Citizen -\", is_eligible_to_vote(18, False))  # Expected: False"
      ]
    }
  ]
}