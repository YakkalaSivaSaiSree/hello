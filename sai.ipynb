{
  "nbformat": 4,
  "nbformat_minor": 4,
  "metadata": {
    "kernelspec": {
      "display_name": "Python",
      "language": "python",
      "name": "python"
    },
    "language_info": {
      "name": "python",
      "file_extension": ".py"
    }
  },
  "cells": [
    {
      "cell_type": "code",
      "execution_count": null,
      "metadata": {},
      "outputs": [],
      "source": [
        "# Vote Eligibility Checker"
      ]
    },
    {
      "cell_type": "code",
      "execution_count": null,
      "metadata": {},
      "outputs": [],
      "source": [
        "def is_eligible_to_vote(age, is_citizen):",
        "    \"\"\"",
        "    Check if a person is eligible to vote.",
        "    :param age: int, the age of the person",
        "    :param is_citizen: bool, whether the person is a citizen",
        "    :return: bool, True if eligible to vote, False otherwise",
        "    \"\"\"",
        "    # Check if the person is 18 or older and is a citizen",
        "    return age >= 18 and is_citizen"
      ]
    },
    {
      "cell_type": "code",
      "execution_count": null,
      "metadata": {},
      "outputs": [],
      "source": [
        "# Test cases to verify the functionality",
        "assert is_eligible_to_vote(18, True) == True, \"Test case 1 failed\"",
        "assert is_eligible_to_vote(17, True) == False, \"Test case 2 failed\"",
        "assert is_eligible_to_vote(18, False) == False, \"Test case 3 failed\"",
        "assert is_eligible_to_vote(20, True) == True, \"Test case 4 failed\"",
        "assert is_eligible_to_vote(20, False) == False, \"Test case 5 failed\""
      ]
    },
    {
      "cell_type": "code",
      "execution_count": null,
      "metadata": {},
      "outputs": [],
      "source": [
        "print(\"All test cases passed!\")"
      ]
    }
  ]
}