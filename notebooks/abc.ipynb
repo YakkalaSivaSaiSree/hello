{
  "nbformat": 4,
  "nbformat_minor": 4,
  "metadata": {
    "kernelspec": {
      "display_name": "Python",
      "language": "python",
      "name": "python"
    },
    "language_info": {
      "name": "python",
      "file_extension": ".py"
    }
  },
  "cells": [
    {
      "cell_type": "code",
      "execution_count": null,
      "metadata": {},
      "outputs": [],
      "source": [
        "# Hello World in Python",
        "print('Hello, World!')"
      ]
    }
  ]
}