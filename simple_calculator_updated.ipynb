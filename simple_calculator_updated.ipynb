{
  "nbformat": 4,
  "nbformat_minor": 4,
  "metadata": {
    "kernelspec": {
      "display_name": "Python",
      "language": "python",
      "name": "python"
    },
    "language_info": {
      "name": "python",
      "file_extension": ".py"
    }
  },
  "cells": [
    {
      "cell_type": "code",
      "execution_count": null,
      "metadata": {},
      "outputs": [],
      "source": [
        "# Simple Calculator Implementation"
      ]
    },
    {
      "cell_type": "code",
      "execution_count": null,
      "metadata": {},
      "outputs": [],
      "source": [
        "def add(x, y):",
        "    \"\"\"Function to add two numbers\"\"\"",
        "    return x + y"
      ]
    },
    {
      "cell_type": "code",
      "execution_count": null,
      "metadata": {},
      "outputs": [],
      "source": [
        "def subtract(x, y):",
        "    \"\"\"Function to subtract two numbers\"\"\"",
        "    return x - y"
      ]
    },
    {
      "cell_type": "code",
      "execution_count": null,
      "metadata": {},
      "outputs": [],
      "source": [
        "def multiply(x, y):",
        "    \"\"\"Function to multiply two numbers\"\"\"",
        "    return x * y"
      ]
    },
    {
      "cell_type": "code",
      "execution_count": null,
      "metadata": {},
      "outputs": [],
      "source": [
        "def divide(x, y):",
        "    \"\"\"Function to divide two numbers, with error handling for division by zero\"\"\"",
        "    try:",
        "        return x / y",
        "    except ZeroDivisionError:",
        "        return \"Error: Division by zero is not allowed.\""
      ]
    },
    {
      "cell_type": "code",
      "execution_count": null,
      "metadata": {},
      "outputs": [],
      "source": [
        "# Test cases to validate the functionality",
        "print(\"Addition of 5 and 3:\", add(5, 3))  # Expected output: 8",
        "print(\"Subtraction of 5 from 3:\", subtract(3, 5))  # Expected output: -2",
        "print(\"Multiplication of 5 and 0:\", multiply(5, 0))  # Expected output: 0",
        "print(\"Division of 5 by 2:\", divide(5, 2))  # Expected output: 2.5",
        "print(\"Division of 5 by 0:\", divide(5, 0))  # Expected output: Error message"
      ]
    }
  ]
}