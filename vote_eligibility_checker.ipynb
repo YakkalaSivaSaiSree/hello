{
  "nbformat": 4,
  "nbformat_minor": 4,
  "metadata": {
    "kernelspec": {
      "display_name": "Python",
      "language": "python",
      "name": "python"
    },
    "language_info": {
      "name": "python",
      "file_extension": ".py"
    }
  },
  "cells": [
    {
      "cell_type": "code",
      "execution_count": null,
      "metadata": {},
      "outputs": [],
      "source": [
        "# Simple Vote Eligibility Checker"
      ]
    },
    {
      "cell_type": "code",
      "execution_count": null,
      "metadata": {},
      "outputs": [],
      "source": [
        "def is_eligible_to_vote(age, is_citizen):",
        "    \"\"\"",
        "    Check if a person is eligible to vote based on age and citizenship."
      ]
    },
    {
      "cell_type": "code",
      "execution_count": null,
      "metadata": {},
      "outputs": [],
      "source": [
        "Parameters:",
        "    age (int): The age of the person.",
        "    is_citizen (bool): Whether the person is a citizen."
      ]
    },
    {
      "cell_type": "code",
      "execution_count": null,
      "metadata": {},
      "outputs": [],
      "source": [
        "Returns:",
        "    bool: True if the person is eligible to vote, False otherwise.",
        "    \"\"\"",
        "    if age >= 18 and is_citizen:",
        "        return True",
        "    else:",
        "        return False"
      ]
    },
    {
      "cell_type": "code",
      "execution_count": null,
      "metadata": {},
      "outputs": [],
      "source": [
        "# Example usage",
        "age = 20",
        "is_citizen = True"
      ]
    },
    {
      "cell_type": "code",
      "execution_count": null,
      "metadata": {},
      "outputs": [],
      "source": [
        "if is_eligible_to_vote(age, is_citizen):",
        "    print(\"The person is eligible to vote.\")",
        "else:",
        "    print(\"The person is not eligible to vote.\")"
      ]
    }
  ]
}