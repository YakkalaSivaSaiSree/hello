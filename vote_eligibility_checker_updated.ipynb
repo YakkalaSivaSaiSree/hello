{
  "nbformat": 4,
  "nbformat_minor": 4,
  "metadata": {
    "kernelspec": {
      "display_name": "Python",
      "language": "python",
      "name": "python"
    },
    "language_info": {
      "name": "python",
      "file_extension": ".py"
    }
  },
  "cells": [
    {
      "cell_type": "code",
      "execution_count": null,
      "metadata": {},
      "outputs": [],
      "source": [
        "def is_eligible_to_vote(age, is_citizen):",
        "    \"\"\"",
        "    Check if a person is eligible to vote based on age and citizenship status."
      ]
    },
    {
      "cell_type": "code",
      "execution_count": null,
      "metadata": {},
      "outputs": [],
      "source": [
        "Parameters:",
        "    age (int): The age of the person.",
        "    is_citizen (bool): The citizenship status of the person."
      ]
    },
    {
      "cell_type": "code",
      "execution_count": null,
      "metadata": {},
      "outputs": [],
      "source": [
        "Returns:",
        "    bool: True if the person is eligible to vote, False otherwise.",
        "    \"\"\"",
        "    # Validate inputs",
        "    if not isinstance(age, int) or age < 0:",
        "        raise ValueError(\"Age must be a non-negative integer.\")",
        "    if not isinstance(is_citizen, bool):",
        "        raise ValueError(\"Citizenship status must be a boolean value.\")"
      ]
    },
    {
      "cell_type": "code",
      "execution_count": null,
      "metadata": {},
      "outputs": [],
      "source": [
        "# Check voting eligibility",
        "    return age >= 18 and is_citizen"
      ]
    },
    {
      "cell_type": "code",
      "execution_count": null,
      "metadata": {},
      "outputs": [],
      "source": [
        "# Test cases",
        "def test_vote_eligibility():",
        "    assert is_eligible_to_vote(20, True) == True, \"Test case 1 failed\"",
        "    assert is_eligible_to_vote(17, True) == False, \"Test case 2 failed\"",
        "    assert is_eligible_to_vote(18, False) == False, \"Test case 3 failed\"",
        "    assert is_eligible_to_vote(18, True) == True, \"Test case 4 failed\"",
        "    assert is_eligible_to_vote(0, False) == False, \"Test case 5 failed\"",
        "    print(\"All test cases passed.\")"
      ]
    },
    {
      "cell_type": "code",
      "execution_count": null,
      "metadata": {},
      "outputs": [],
      "source": [
        "# Run test cases",
        "test_vote_eligibility()"
      ]
    }
  ]
}