{
  "nbformat": 4,
  "nbformat_minor": 4,
  "metadata": {
    "kernelspec": {
      "display_name": "Python",
      "language": "python",
      "name": "python"
    },
    "language_info": {
      "name": "python",
      "file_extension": ".py"
    }
  },
  "cells": [
    {
      "cell_type": "code",
      "execution_count": null,
      "metadata": {},
      "outputs": [],
      "source": [
        "def add(x, y):",
        "    \"\"\"Add two numbers.\"\"\"",
        "    return x + y"
      ]
    },
    {
      "cell_type": "code",
      "execution_count": null,
      "metadata": {},
      "outputs": [],
      "source": [
        "def subtract(x, y):",
        "    \"\"\"Subtract two numbers.\"\"\"",
        "    return x - y"
      ]
    },
    {
      "cell_type": "code",
      "execution_count": null,
      "metadata": {},
      "outputs": [],
      "source": [
        "def multiply(x, y):",
        "    \"\"\"Multiply two numbers.\"\"\"",
        "    return x * y"
      ]
    },
    {
      "cell_type": "code",
      "execution_count": null,
      "metadata": {},
      "outputs": [],
      "source": [
        "def divide(x, y):",
        "    \"\"\"Divide two numbers.\"\"\"",
        "    if y == 0:",
        "        return \"Error! Division by zero.\"",
        "    return x / y"
      ]
    },
    {
      "cell_type": "code",
      "execution_count": null,
      "metadata": {},
      "outputs": [],
      "source": [
        "def calculator():",
        "    \"\"\"Simple calculator to perform basic arithmetic operations.\"\"\"",
        "    print(\"Select operation:\")",
        "    print(\"1. Add\")",
        "    print(\"2. Subtract\")",
        "    print(\"3. Multiply\")",
        "    print(\"4. Divide\")"
      ]
    },
    {
      "cell_type": "code",
      "execution_count": null,
      "metadata": {},
      "outputs": [],
      "source": [
        "while True:",
        "        # Take input from the user",
        "        choice = input(\"Enter choice(1/2/3/4): \")"
      ]
    },
    {
      "cell_type": "code",
      "execution_count": null,
      "metadata": {},
      "outputs": [],
      "source": [
        "# Check if choice is one of the four options",
        "        if choice in ['1', '2', '3', '4']:",
        "            try:",
        "                num1 = float(input(\"Enter first number: \"))",
        "                num2 = float(input(\"Enter second number: \"))",
        "            except ValueError:",
        "                print(\"Invalid input! Please enter a number.\")",
        "                continue"
      ]
    },
    {
      "cell_type": "code",
      "execution_count": null,
      "metadata": {},
      "outputs": [],
      "source": [
        "if choice == '1':",
        "                print(f\"{num1} + {num2} = {add(num1, num2)}\")"
      ]
    },
    {
      "cell_type": "code",
      "execution_count": null,
      "metadata": {},
      "outputs": [],
      "source": [
        "elif choice == '2':",
        "                print(f\"{num1} - {num2} = {subtract(num1, num2)}\")"
      ]
    },
    {
      "cell_type": "code",
      "execution_count": null,
      "metadata": {},
      "outputs": [],
      "source": [
        "elif choice == '3':",
        "                print(f\"{num1} * {num2} = {multiply(num1, num2)}\")"
      ]
    },
    {
      "cell_type": "code",
      "execution_count": null,
      "metadata": {},
      "outputs": [],
      "source": [
        "elif choice == '4':",
        "                print(f\"{num1} / {num2} = {divide(num1, num2)}\")",
        "        else:",
        "            print(\"Invalid Input\")"
      ]
    },
    {
      "cell_type": "code",
      "execution_count": null,
      "metadata": {},
      "outputs": [],
      "source": [
        "# Ask if the user wants to perform another calculation",
        "        next_calculation = input(\"Do you want to perform another calculation? (yes/no): \")",
        "        if next_calculation.lower() != 'yes':",
        "            break"
      ]
    },
    {
      "cell_type": "code",
      "execution_count": null,
      "metadata": {},
      "outputs": [],
      "source": [
        "calculator()"
      ]
    }
  ]
}