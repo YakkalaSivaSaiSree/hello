{
  "nbformat": 4,
  "nbformat_minor": 4,
  "metadata": {
    "kernelspec": {
      "display_name": "Python",
      "language": "python",
      "name": "python"
    },
    "language_info": {
      "name": "python",
      "file_extension": ".py"
    }
  },
  "cells": [
    {
      "cell_type": "code",
      "execution_count": null,
      "metadata": {},
      "outputs": [],
      "source": [
        "import turtle",
        "import time",
        "import random"
      ]
    },
    {
      "cell_type": "code",
      "execution_count": null,
      "metadata": {},
      "outputs": [],
      "source": [
        "# Set up the screen",
        "wn = turtle.Screen()",
        "wn.title(\"Snake Game\")",
        "wn.bgcolor(\"black\")",
        "wn.setup(width=600, height=600)",
        "wn.tracer(0)"
      ]
    },
    {
      "cell_type": "code",
      "execution_count": null,
      "metadata": {},
      "outputs": [],
      "source": [
        "# Snake head",
        "head = turtle.Turtle()",
        "head.speed(0)",
        "head.shape(\"square\")",
        "head.color(\"white\")",
        "head.penup()",
        "head.goto(0, 0)",
        "head.direction = \"stop\""
      ]
    },
    {
      "cell_type": "code",
      "execution_count": null,
      "metadata": {},
      "outputs": [],
      "source": [
        "# Snake food",
        "food = turtle.Turtle()",
        "food.speed(0)",
        "food.shape(\"circle\")",
        "food.color(\"red\")",
        "food.penup()",
        "food.goto(0, 100)"
      ]
    },
    {
      "cell_type": "code",
      "execution_count": null,
      "metadata": {},
      "outputs": [],
      "source": [
        "segments = []"
      ]
    },
    {
      "cell_type": "code",
      "execution_count": null,
      "metadata": {},
      "outputs": [],
      "source": [
        "# Functions",
        "def go_up():",
        "    if head.direction != \"down\":",
        "        head.direction = \"up\""
      ]
    },
    {
      "cell_type": "code",
      "execution_count": null,
      "metadata": {},
      "outputs": [],
      "source": [
        "def go_down():",
        "    if head.direction != \"up\":",
        "        head.direction = \"down\""
      ]
    },
    {
      "cell_type": "code",
      "execution_count": null,
      "metadata": {},
      "outputs": [],
      "source": [
        "def go_left():",
        "    if head.direction != \"right\":",
        "        head.direction = \"left\""
      ]
    },
    {
      "cell_type": "code",
      "execution_count": null,
      "metadata": {},
      "outputs": [],
      "source": [
        "def go_right():",
        "    if head.direction != \"left\":",
        "        head.direction = \"right\""
      ]
    },
    {
      "cell_type": "code",
      "execution_count": null,
      "metadata": {},
      "outputs": [],
      "source": [
        "def move():",
        "    if head.direction == \"up\":",
        "        y = head.ycor()",
        "        head.sety(y + 20)",
        "    if head.direction == \"down\":",
        "        y = head.ycor()",
        "        head.sety(y - 20)",
        "    if head.direction == \"left\":",
        "        x = head.xcor()",
        "        head.setx(x - 20)",
        "    if head.direction == \"right\":",
        "        x = head.xcor()",
        "        head.setx(x + 20)"
      ]
    },
    {
      "cell_type": "code",
      "execution_count": null,
      "metadata": {},
      "outputs": [],
      "source": [
        "wn.listen()",
        "wn.onkeypress(go_up, \"w\")",
        "wn.onkeypress(go_down, \"s\")",
        "wn.onkeypress(go_left, \"a\")",
        "wn.onkeypress(go_right, \"d\")"
      ]
    },
    {
      "cell_type": "code",
      "execution_count": null,
      "metadata": {},
      "outputs": [],
      "source": [
        "while True:",
        "    wn.update()",
        "    if head.distance(food) < 20:",
        "        x = random.randint(-290, 290)",
        "        y = random.randint(-290, 290)",
        "        food.goto(x, y)",
        "        new_segment = turtle.Turtle()",
        "        new_segment.speed(0)",
        "        new_segment.shape(\"square\")",
        "        new_segment.color(\"grey\")",
        "        new_segment.penup()",
        "        segments.append(new_segment)",
        "    for index in range(len(segments) - 1, 0, -1):",
        "        x = segments[index - 1].xcor()",
        "        y = segments[index - 1].ycor()",
        "        segments[index].goto(x, y)",
        "    if len(segments) > 0:",
        "        x = head.xcor()",
        "        y = head.ycor()",
        "        segments[0].goto(x, y)",
        "    move()",
        "    time.sleep(0.1)"
      ]
    }
  ]
}